{
 "cells": [
  {
   "cell_type": "code",
   "execution_count": 1,
   "metadata": {},
   "outputs": [],
   "source": [
    "import gzip\n",
    "import json\n",
    "from fractions import Fraction\n",
    "import matplotlib.pyplot as plt\n",
    "from datetime import datetime\n",
    "import pandas as pd\n",
    "from sklearn.model_selection import train_test_split"
   ]
  },
  {
   "cell_type": "markdown",
   "metadata": {},
   "source": [
    "### Part 1\n",
    "\n",
    "In the expanding world of craft beer, consumer preferences and ratings play a crucial role in understanding market trends, consumer tastes, and the overall landscape of beer varieties. The RateBeer dataset, a comprehensive collection of beer ratings, emerges as an invaluable resource for such an analysis. This dataset, encompassing a vast array of user-generated ratings, presents a unique opportunity to delve into the multifaceted world of beer appreciation and its underlying patterns.\n",
    "\n",
    "The RateBeer dataset comprises 1,586,259 ratings, contributed by 40,213 users, covering 110,419 distinct items (beers). This extensive dataset not only reflects a diverse range of consumer preferences but also encapsulates a wide variety of beer characteristics, such as type, brewer, alcohol content, and individual consumer reviews covering aspects like aroma, taste, and appearance.\n",
    "\n",
    "The primary objective of this project is to conduct a detailed exploratory analysis of the RateBeer dataset, focusing on uncovering its intrinsic properties, distribution of ratings, user engagement, and the characteristics of the beers reviewed. This analysis serves as a foundational step towards developing predictive models that can anticipate consumer preferences, forecast market trends, and aid in personalized recommendation systems."
   ]
  },
  {
   "cell_type": "code",
   "execution_count": 2,
   "metadata": {},
   "outputs": [
    {
     "ename": "FileNotFoundError",
     "evalue": "[Errno 2] No such file or directory: 'ratebeer.json'",
     "output_type": "error",
     "traceback": [
      "\u001b[1;31m---------------------------------------------------------------------------\u001b[0m",
      "\u001b[1;31mFileNotFoundError\u001b[0m                         Traceback (most recent call last)",
      "Cell \u001b[1;32mIn[2], line 8\u001b[0m\n\u001b[0;32m      6\u001b[0m     \u001b[38;5;28;01mfor\u001b[39;00m l \u001b[38;5;129;01min\u001b[39;00m \u001b[38;5;28mopen\u001b[39m(fname):\n\u001b[0;32m      7\u001b[0m         \u001b[38;5;28;01myield\u001b[39;00m \u001b[38;5;28meval\u001b[39m(l)\n\u001b[1;32m----> 8\u001b[0m data \u001b[38;5;241m=\u001b[39m \u001b[38;5;28;43mlist\u001b[39;49m\u001b[43m(\u001b[49m\u001b[43mparseData\u001b[49m\u001b[43m(\u001b[49m\u001b[38;5;124;43m\"\u001b[39;49m\u001b[38;5;124;43mratebeer.json\u001b[39;49m\u001b[38;5;124;43m\"\u001b[39;49m\u001b[43m)\u001b[49m\u001b[43m \u001b[49m\u001b[43m)\u001b[49m\n",
      "Cell \u001b[1;32mIn[2], line 6\u001b[0m, in \u001b[0;36mparseData\u001b[1;34m(fname)\u001b[0m\n\u001b[0;32m      5\u001b[0m \u001b[38;5;28;01mdef\u001b[39;00m \u001b[38;5;21mparseData\u001b[39m(fname):\n\u001b[1;32m----> 6\u001b[0m     \u001b[38;5;28;01mfor\u001b[39;00m l \u001b[38;5;129;01min\u001b[39;00m \u001b[38;5;28;43mopen\u001b[39;49m\u001b[43m(\u001b[49m\u001b[43mfname\u001b[49m\u001b[43m)\u001b[49m:\n\u001b[0;32m      7\u001b[0m         \u001b[38;5;28;01myield\u001b[39;00m \u001b[38;5;28meval\u001b[39m(l)\n",
      "File \u001b[1;32m~\\anaconda3\\envs\\cse151a\\lib\\site-packages\\IPython\\core\\interactiveshell.py:282\u001b[0m, in \u001b[0;36m_modified_open\u001b[1;34m(file, *args, **kwargs)\u001b[0m\n\u001b[0;32m    275\u001b[0m \u001b[38;5;28;01mif\u001b[39;00m file \u001b[38;5;129;01min\u001b[39;00m {\u001b[38;5;241m0\u001b[39m, \u001b[38;5;241m1\u001b[39m, \u001b[38;5;241m2\u001b[39m}:\n\u001b[0;32m    276\u001b[0m     \u001b[38;5;28;01mraise\u001b[39;00m \u001b[38;5;167;01mValueError\u001b[39;00m(\n\u001b[0;32m    277\u001b[0m         \u001b[38;5;124mf\u001b[39m\u001b[38;5;124m\"\u001b[39m\u001b[38;5;124mIPython won\u001b[39m\u001b[38;5;124m'\u001b[39m\u001b[38;5;124mt let you open fd=\u001b[39m\u001b[38;5;132;01m{\u001b[39;00mfile\u001b[38;5;132;01m}\u001b[39;00m\u001b[38;5;124m by default \u001b[39m\u001b[38;5;124m\"\u001b[39m\n\u001b[0;32m    278\u001b[0m         \u001b[38;5;124m\"\u001b[39m\u001b[38;5;124mas it is likely to crash IPython. If you know what you are doing, \u001b[39m\u001b[38;5;124m\"\u001b[39m\n\u001b[0;32m    279\u001b[0m         \u001b[38;5;124m\"\u001b[39m\u001b[38;5;124myou can use builtins\u001b[39m\u001b[38;5;124m'\u001b[39m\u001b[38;5;124m open.\u001b[39m\u001b[38;5;124m\"\u001b[39m\n\u001b[0;32m    280\u001b[0m     )\n\u001b[1;32m--> 282\u001b[0m \u001b[38;5;28;01mreturn\u001b[39;00m io_open(file, \u001b[38;5;241m*\u001b[39margs, \u001b[38;5;241m*\u001b[39m\u001b[38;5;241m*\u001b[39mkwargs)\n",
      "\u001b[1;31mFileNotFoundError\u001b[0m: [Errno 2] No such file or directory: 'ratebeer.json'"
     ]
    }
   ],
   "source": [
    "def readGz(path):\n",
    "    for l in gzip.open(path, 'rt'):\n",
    "        yield eval(l)\n",
    "    \n",
    "def parseData(fname):\n",
    "    for l in open(fname):\n",
    "        yield eval(l)\n",
    "data = list(parseData(\"ratebeer.json\") )"
   ]
  },
  {
   "cell_type": "code",
   "execution_count": 3,
   "metadata": {},
   "outputs": [
    {
     "ename": "NameError",
     "evalue": "name 'data' is not defined",
     "output_type": "error",
     "traceback": [
      "\u001b[1;31m---------------------------------------------------------------------------\u001b[0m",
      "\u001b[1;31mNameError\u001b[0m                                 Traceback (most recent call last)",
      "Cell \u001b[1;32mIn[3], line 2\u001b[0m\n\u001b[0;32m      1\u001b[0m \u001b[38;5;66;03m# get list of keys in dataset\u001b[39;00m\n\u001b[1;32m----> 2\u001b[0m keys \u001b[38;5;241m=\u001b[39m \u001b[38;5;28mlist\u001b[39m(\u001b[43mdata\u001b[49m[\u001b[38;5;241m0\u001b[39m]\u001b[38;5;241m.\u001b[39mkeys())\n\u001b[0;32m      3\u001b[0m keys\n",
      "\u001b[1;31mNameError\u001b[0m: name 'data' is not defined"
     ]
    }
   ],
   "source": [
    "# get list of keys in dataset\n",
    "keys = list(data[0].keys())\n",
    "keys"
   ]
  },
  {
   "cell_type": "code",
   "execution_count": 4,
   "metadata": {},
   "outputs": [
    {
     "data": {
      "text/plain": [
       "['beer/ABV',\n",
       " 'review/appearance',\n",
       " 'review/aroma',\n",
       " 'review/palate',\n",
       " 'review/taste',\n",
       " 'review/overall']"
      ]
     },
     "execution_count": 4,
     "metadata": {},
     "output_type": "execute_result"
    }
   ],
   "source": [
    "key_numerical = [keys[3], keys[5], keys[6], keys[7], keys[8], keys[9]]\n",
    "key_numerical"
   ]
  },
  {
   "cell_type": "code",
   "execution_count": 5,
   "metadata": {},
   "outputs": [],
   "source": [
    "def convert_to_float(value):\n",
    "    try:\n",
    "        # Try to convert to a float directly\n",
    "        return float(value)\n",
    "    except ValueError:\n",
    "        try:\n",
    "            # If it's a fraction, convert it using the Fraction module\n",
    "            return float(Fraction(value))\n",
    "        except ValueError:\n",
    "            return value  # Return the original value if conversion fails\n",
    "\n",
    "# Iterate through the dataset and convert specified keys to float\n",
    "for data_point in data:\n",
    "    for key in key_numerical:\n",
    "        if key in data_point:\n",
    "            data_point[key] = convert_to_float(data_point[key])"
   ]
  },
  {
   "cell_type": "code",
   "execution_count": 6,
   "metadata": {},
   "outputs": [],
   "source": [
    "abv_values = [beer.get(\"beer/ABV\", None) for beer in data]  # Use None or a default value if key is missing\n",
    "overall_ratings = [beer.get(\"review/overall\", None) for beer in data]"
   ]
  },
  {
   "cell_type": "code",
   "execution_count": 7,
   "metadata": {},
   "outputs": [],
   "source": [
    "# Extracting ABV and overall ratings with conversion of '-' to zero\n",
    "abv_values = []\n",
    "overall_ratings = []\n",
    "\n",
    "for beer in data:\n",
    "    abv = beer.get(\"beer/ABV\", \"0\")  # Default to \"0\" if key is missing\n",
    "    overall = beer.get(\"review/overall\", \"0\")  # Default to \"0\" if key is missing\n",
    "\n",
    "    # Replace '-' with '0'\n",
    "    abv = \"0\" if abv == \"-\" else abv\n",
    "    overall = \"0\" if overall == \"-\" else overall\n",
    "\n",
    "    try:\n",
    "        abv_values.append(float(abv))\n",
    "        overall_ratings.append(float(overall))\n",
    "    except ValueError:\n",
    "        # Skip the entry if it contains non-numeric values other than '-'\n",
    "        continue"
   ]
  },
  {
   "cell_type": "code",
   "execution_count": 8,
   "metadata": {
    "scrolled": true
   },
   "outputs": [
    {
     "data": {
      "image/png": "[encoded data removed]",
      "text/plain": [
       "<Figure size 720x432 with 1 Axes>"
      ]
     },
     "metadata": {
      "needs_background": "light"
     },
     "output_type": "display_data"
    }
   ],
   "source": [
    "# Creating a scatter plot\n",
    "plt.figure(figsize=(10, 6))\n",
    "plt.scatter(abv_values, overall_ratings, alpha=0.7)\n",
    "plt.title('ABV vs Overall Rating')\n",
    "plt.xlabel('ABV (%)')\n",
    "plt.ylabel('Overall Rating')\n",
    "plt.grid(True)\n",
    "plt.show()"
   ]
  },
  {
   "cell_type": "markdown",
   "metadata": {},
   "source": [
    "In the initial data exploration, a chart was created to look at how the strength of the beer (measured by the Alcohol by Volume, or ABV) relates to how much people enjoyed it (their overall rating). The chart showed that most of the beers had a lower alcohol content and their enjoyment ratings were all over the place — some people rated them highly, others not so much. Beers with a higher alcohol content were rated more consistently and generally received better enjoyment scores, although there were fewer of these stronger beers in the data. This simple analysis begins to shed light on people's beer preferences, which will be important for understanding what drives beer ratings."
   ]
  },
  {
   "cell_type": "code",
   "execution_count": 9,
   "metadata": {},
   "outputs": [],
   "source": [
    "taste_ratings = []\n",
    "\n",
    "for beer in data:\n",
    "    taste = beer.get(\"review/taste\", \"0\")  # Default to \"0\" if key is missing\n",
    "    # Replace '-' with '0'\n",
    "    taste = \"0\" if taste == \"-\" else taste\n",
    "\n",
    "    try:\n",
    "        taste_ratings.append(float(taste))\n",
    "    except ValueError:\n",
    "        # Skip the entry if it contains non-numeric values other than '-'\n",
    "        continue"
   ]
  },
  {
   "cell_type": "code",
   "execution_count": 10,
   "metadata": {},
   "outputs": [
    {
     "data": {
      "image/png": "[encoded data removed]",
      "text/plain": [
       "<Figure size 720x432 with 1 Axes>"
      ]
     },
     "metadata": {
      "needs_background": "light"
     },
     "output_type": "display_data"
    }
   ],
   "source": [
    "plt.figure(figsize=(10, 6))\n",
    "plt.scatter(abv_values, taste_ratings, alpha=0.7)\n",
    "plt.title('Taste vs ABV')\n",
    "plt.xlabel('ABV (%)')\n",
    "plt.ylabel('Taste Rating')\n",
    "plt.grid(True)\n",
    "plt.show()"
   ]
  },
  {
   "cell_type": "markdown",
   "metadata": {},
   "source": [
    "The scatter plot titled \"Taste vs ABV\" is an analysis comparing taste ratings with alcohol by volume (ABV) percentages. Upon examination, the plot reveals a distribution of taste ratings, which are scaled from 0 to 1, across a range of ABV percentages from 0% to just over 50%. A concentration of data points is observed at the lower end of the ABV spectrum, with these points predominantly clustered at lower taste ratings. As the ABV percentage increases, data points disperse more broadly, indicating less consistency in the relationship between taste and alcohol content. The lack of a discernible trend suggests that within the dataset, higher ABV does not consistently correlate with either higher or lower taste ratings. This implies that other factors beyond ABV may play a significant role in the perceived taste quality of the items or substances evaluated. Notably, no data points exist for ABV levels higher than 50%, indicating either a lack of samples in that range or an intentional focus on a specific ABV range for the study."
   ]
  },
  {
   "cell_type": "code",
   "execution_count": 12,
   "metadata": {},
   "outputs": [],
   "source": [
    "df = pd.DataFrame(data)"
   ]
  },
  {
   "cell_type": "code",
   "execution_count": 13,
   "metadata": {},
   "outputs": [],
   "source": [
    "beer_counts = df.groupby('beer/beerId').size().reset_index(name='count')\n",
    "avg_appearance = df.groupby('beer/beerId')['review/appearance'].mean().reset_index()\n",
    "\n",
    "# Merging the two dataframes\n",
    "merged_data = pd.merge(beer_counts, avg_appearance, on='beer/beerId')"
   ]
  },
  {
   "cell_type": "code",
   "execution_count": 14,
   "metadata": {},
   "outputs": [
    {
     "data": {
      "image/png": "[encoded data removed]",
      "text/plain": [
       "<Figure size 720x432 with 1 Axes>"
      ]
     },
     "metadata": {
      "needs_background": "light"
     },
     "output_type": "display_data"
    }
   ],
   "source": [
    "plt.figure(figsize=(10, 6))\n",
    "plt.scatter(merged_data['count'], merged_data['review/appearance'])\n",
    "plt.title('Number of Sold vs Average Appearance Rating for Each Beer')\n",
    "plt.xlabel('Number of Sold')\n",
    "plt.ylabel('Average Appearance Rating')\n",
    "plt.grid(True)\n",
    "plt.show()"
   ]
  },
  {
   "cell_type": "markdown",
   "metadata": {},
   "source": [
    "The scatter plot you're referring to examines the relationship between the number of beers sold and the average appearance rating each beer has received. The data shows a broad distribution of appearance ratings across different sales volumes, indicating that there isn't a straightforward or strong correlation between the two variables.\n",
    "\n",
    "For beers with fewer sales, there is a wide range of average appearance ratings, suggesting that less frequently sold beers can be perceived very differently in terms of appearance. As sales increase, the average appearance ratings cluster more tightly around the middle of the rating scale, yet there's still considerable variation.\n",
    "\n",
    "Most beers on the chart are in the lower range of sales, with their appearance ratings spanning from low to high. There isn't a distinct pattern showing that beers with higher sales volumes have better or worse appearance ratings. This implies that how often a beer is sold does not predict how appealing its appearance is rated by consumers. The appearance ratings are likely to be subjective and influenced by individual preferences rather than sales popularity."
   ]
  },
  {
   "cell_type": "markdown",
   "metadata": {},
   "source": [
    "Question 2: Logistics regression model"
   ]
  },
  {
   "cell_type": "markdown",
   "metadata": {},
   "source": [
    "Brewer analysis: can we predict overall rating based on ABV, aroma, palate, taste & apperance?"
   ]
  },
  {
   "cell_type": "markdown",
   "metadata": {},
   "source": [
    "List of features we need to use: \n",
    "1. lalbel: overall. \n",
    "2. list of features: ABV, aroma, palate, taste, apperance -> scaling by threshold - the mean\n",
    "3. Steps: filter only beers that have overall > 0.7 -> calculate mean of ABV, aroma, palate, taste & apperance -> get the threshold for model"
   ]
  },
  {
   "cell_type": "code",
   "execution_count": 16,
   "metadata": {},
   "outputs": [],
   "source": [
    "df_shuffled = df.sample(frac=1).reset_index(drop=True)\n",
    "train_set, test_set = train_test_split(df_shuffled, test_size=0.3)"
   ]
  },
  {
   "cell_type": "code",
   "execution_count": 17,
   "metadata": {},
   "outputs": [
    {
     "data": {
      "text/html": [
       "<div>\n",
       "<style scoped>\n",
       "    .dataframe tbody tr th:only-of-type {\n",
       "        vertical-align: middle;\n",
       "    }\n",
       "\n",
       "    .dataframe tbody tr th {\n",
       "        vertical-align: top;\n",
       "    }\n",
       "\n",
       "    .dataframe thead th {\n",
       "        text-align: right;\n",
       "    }\n",
       "</style>\n",
       "<table border=\"1\" class=\"dataframe\">\n",
       "  <thead>\n",
       "    <tr style=\"text-align: right;\">\n",
       "      <th></th>\n",
       "      <th>beer/name</th>\n",
       "      <th>beer/beerId</th>\n",
       "      <th>beer/brewerId</th>\n",
       "      <th>beer/ABV</th>\n",
       "      <th>beer/style</th>\n",
       "      <th>review/appearance</th>\n",
       "      <th>review/aroma</th>\n",
       "      <th>review/palate</th>\n",
       "      <th>review/taste</th>\n",
       "      <th>review/overall</th>\n",
       "      <th>review/time</th>\n",
       "      <th>review/profileName</th>\n",
       "      <th>review/text</th>\n",
       "    </tr>\n",
       "  </thead>\n",
       "  <tbody>\n",
       "    <tr>\n",
       "      <th>1628942</th>\n",
       "      <td>Milwaukees Best Light</td>\n",
       "      <td>413</td>\n",
       "      <td>75</td>\n",
       "      <td>4.2</td>\n",
       "      <td>Pale Lager</td>\n",
       "      <td>0.2</td>\n",
       "      <td>0.5</td>\n",
       "      <td>1.0</td>\n",
       "      <td>0.5</td>\n",
       "      <td>0.50</td>\n",
       "      <td>1089849600</td>\n",
       "      <td>CamdenD</td>\n",
       "      <td>Love the light.  Give it up.  Drink it all nig...</td>\n",
       "    </tr>\n",
       "    <tr>\n",
       "      <th>1500588</th>\n",
       "      <td>Green Flash Imperial IPA</td>\n",
       "      <td>60330</td>\n",
       "      <td>3111</td>\n",
       "      <td>9.4</td>\n",
       "      <td>Imperial/Double IPA</td>\n",
       "      <td>0.8</td>\n",
       "      <td>0.9</td>\n",
       "      <td>0.6</td>\n",
       "      <td>0.8</td>\n",
       "      <td>0.95</td>\n",
       "      <td>1166227200</td>\n",
       "      <td>ChazMania</td>\n",
       "      <td>Bomber. Wow~!! Definetly a winner here. Aroma ...</td>\n",
       "    </tr>\n",
       "    <tr>\n",
       "      <th>325790</th>\n",
       "      <td>Fullers London Pride &amp;#40;Pasteurised&amp;#41;</td>\n",
       "      <td>288</td>\n",
       "      <td>55</td>\n",
       "      <td>4.7</td>\n",
       "      <td>Premium Bitter/ESB</td>\n",
       "      <td>0.6</td>\n",
       "      <td>0.5</td>\n",
       "      <td>0.6</td>\n",
       "      <td>0.6</td>\n",
       "      <td>0.75</td>\n",
       "      <td>1250294400</td>\n",
       "      <td>Fullers74</td>\n",
       "      <td>Mild hoppy and fruity aroma with a similar tas...</td>\n",
       "    </tr>\n",
       "    <tr>\n",
       "      <th>984703</th>\n",
       "      <td>Jolly Pumpkin Calabaza Blanca</td>\n",
       "      <td>36706</td>\n",
       "      <td>4923</td>\n",
       "      <td>4.8</td>\n",
       "      <td>Belgian White &amp;#40;Witbier&amp;#41;</td>\n",
       "      <td>0.6</td>\n",
       "      <td>0.7</td>\n",
       "      <td>0.4</td>\n",
       "      <td>0.7</td>\n",
       "      <td>0.65</td>\n",
       "      <td>1225152000</td>\n",
       "      <td>NosirIwont</td>\n",
       "      <td>Bottle. 10 cl. sample. Pours a hazy yellow wit...</td>\n",
       "    </tr>\n",
       "    <tr>\n",
       "      <th>917868</th>\n",
       "      <td>Rogue Juniper Pale Ale</td>\n",
       "      <td>45253</td>\n",
       "      <td>96</td>\n",
       "      <td>5.2</td>\n",
       "      <td>American Pale Ale</td>\n",
       "      <td>0.6</td>\n",
       "      <td>0.7</td>\n",
       "      <td>0.6</td>\n",
       "      <td>0.7</td>\n",
       "      <td>0.65</td>\n",
       "      <td>1141516800</td>\n",
       "      <td>OldRaspy</td>\n",
       "      <td>Poured from the bottle a straw yellow with a s...</td>\n",
       "    </tr>\n",
       "    <tr>\n",
       "      <th>...</th>\n",
       "      <td>...</td>\n",
       "      <td>...</td>\n",
       "      <td>...</td>\n",
       "      <td>...</td>\n",
       "      <td>...</td>\n",
       "      <td>...</td>\n",
       "      <td>...</td>\n",
       "      <td>...</td>\n",
       "      <td>...</td>\n",
       "      <td>...</td>\n",
       "      <td>...</td>\n",
       "      <td>...</td>\n",
       "      <td>...</td>\n",
       "    </tr>\n",
       "    <tr>\n",
       "      <th>1871046</th>\n",
       "      <td>Ridgeway Santas Butt Winter Porter</td>\n",
       "      <td>40414</td>\n",
       "      <td>1265</td>\n",
       "      <td>6.0</td>\n",
       "      <td>Porter</td>\n",
       "      <td>0.6</td>\n",
       "      <td>0.2</td>\n",
       "      <td>0.4</td>\n",
       "      <td>0.4</td>\n",
       "      <td>0.50</td>\n",
       "      <td>1172448000</td>\n",
       "      <td>Cliff</td>\n",
       "      <td>Holy completely bland, watery, unispired, bori...</td>\n",
       "    </tr>\n",
       "    <tr>\n",
       "      <th>1907199</th>\n",
       "      <td>Lehmans Orchard Honeycrisp Apple</td>\n",
       "      <td>130758</td>\n",
       "      <td>12127</td>\n",
       "      <td>6.8</td>\n",
       "      <td>Cider</td>\n",
       "      <td>0.8</td>\n",
       "      <td>0.7</td>\n",
       "      <td>0.8</td>\n",
       "      <td>0.7</td>\n",
       "      <td>0.80</td>\n",
       "      <td>1284854400</td>\n",
       "      <td>jaymobrown</td>\n",
       "      <td>Great crisp cider. Light, straw color. Lots of...</td>\n",
       "    </tr>\n",
       "    <tr>\n",
       "      <th>1585346</th>\n",
       "      <td>Harpoon IPA</td>\n",
       "      <td>694</td>\n",
       "      <td>111</td>\n",
       "      <td>5.9</td>\n",
       "      <td>India Pale Ale &amp;#40;IPA&amp;#41;</td>\n",
       "      <td>1.0</td>\n",
       "      <td>0.8</td>\n",
       "      <td>0.6</td>\n",
       "      <td>0.8</td>\n",
       "      <td>0.80</td>\n",
       "      <td>1178755200</td>\n",
       "      <td>mbrandon2w</td>\n",
       "      <td>pours a nice gold with a 2 finger head that fa...</td>\n",
       "    </tr>\n",
       "    <tr>\n",
       "      <th>2676247</th>\n",
       "      <td>Brooklyn Pilsner</td>\n",
       "      <td>532</td>\n",
       "      <td>90</td>\n",
       "      <td>5.0</td>\n",
       "      <td>Pilsener</td>\n",
       "      <td>0.6</td>\n",
       "      <td>0.6</td>\n",
       "      <td>0.6</td>\n",
       "      <td>0.7</td>\n",
       "      <td>0.60</td>\n",
       "      <td>1275609600</td>\n",
       "      <td>rederic</td>\n",
       "      <td>120z bottle, bright honey gold color, with a t...</td>\n",
       "    </tr>\n",
       "    <tr>\n",
       "      <th>2484320</th>\n",
       "      <td>Saint Somewhere Saison Athene</td>\n",
       "      <td>76552</td>\n",
       "      <td>8567</td>\n",
       "      <td>7.5</td>\n",
       "      <td>Saison</td>\n",
       "      <td>0.6</td>\n",
       "      <td>0.7</td>\n",
       "      <td>0.4</td>\n",
       "      <td>0.8</td>\n",
       "      <td>0.70</td>\n",
       "      <td>1207008000</td>\n",
       "      <td>Immy</td>\n",
       "      <td>C&amp;amp;C 750 from kp - thanks! Cloudy gold with...</td>\n",
       "    </tr>\n",
       "  </tbody>\n",
       "</table>\n",
       "<p>2046914 rows × 13 columns</p>\n",
       "</div>"
      ],
      "text/plain": [
       "                                          beer/name beer/beerId beer/brewerId  \\\n",
       "1628942                       Milwaukees Best Light         413            75   \n",
       "1500588                    Green Flash Imperial IPA       60330          3111   \n",
       "325790   Fullers London Pride &#40;Pasteurised&#41;         288            55   \n",
       "984703                Jolly Pumpkin Calabaza Blanca       36706          4923   \n",
       "917868                       Rogue Juniper Pale Ale       45253            96   \n",
       "...                                             ...         ...           ...   \n",
       "1871046          Ridgeway Santas Butt Winter Porter       40414          1265   \n",
       "1907199            Lehmans Orchard Honeycrisp Apple      130758         12127   \n",
       "1585346                                 Harpoon IPA         694           111   \n",
       "2676247                            Brooklyn Pilsner         532            90   \n",
       "2484320               Saint Somewhere Saison Athene       76552          8567   \n",
       "\n",
       "        beer/ABV                       beer/style  review/appearance  \\\n",
       "1628942      4.2                       Pale Lager                0.2   \n",
       "1500588      9.4              Imperial/Double IPA                0.8   \n",
       "325790       4.7               Premium Bitter/ESB                0.6   \n",
       "984703       4.8  Belgian White &#40;Witbier&#41;                0.6   \n",
       "917868       5.2                American Pale Ale                0.6   \n",
       "...          ...                              ...                ...   \n",
       "1871046      6.0                           Porter                0.6   \n",
       "1907199      6.8                            Cider                0.8   \n",
       "1585346      5.9     India Pale Ale &#40;IPA&#41;                1.0   \n",
       "2676247      5.0                         Pilsener                0.6   \n",
       "2484320      7.5                           Saison                0.6   \n",
       "\n",
       "         review/aroma  review/palate  review/taste  review/overall  \\\n",
       "1628942           0.5            1.0           0.5            0.50   \n",
       "1500588           0.9            0.6           0.8            0.95   \n",
       "325790            0.5            0.6           0.6            0.75   \n",
       "984703            0.7            0.4           0.7            0.65   \n",
       "917868            0.7            0.6           0.7            0.65   \n",
       "...               ...            ...           ...             ...   \n",
       "1871046           0.2            0.4           0.4            0.50   \n",
       "1907199           0.7            0.8           0.7            0.80   \n",
       "1585346           0.8            0.6           0.8            0.80   \n",
       "2676247           0.6            0.6           0.7            0.60   \n",
       "2484320           0.7            0.4           0.8            0.70   \n",
       "\n",
       "        review/time review/profileName  \\\n",
       "1628942  1089849600            CamdenD   \n",
       "1500588  1166227200          ChazMania   \n",
       "325790   1250294400          Fullers74   \n",
       "984703   1225152000         NosirIwont   \n",
       "917868   1141516800           OldRaspy   \n",
       "...             ...                ...   \n",
       "1871046  1172448000              Cliff   \n",
       "1907199  1284854400         jaymobrown   \n",
       "1585346  1178755200         mbrandon2w   \n",
       "2676247  1275609600            rederic   \n",
       "2484320  1207008000               Immy   \n",
       "\n",
       "                                               review/text  \n",
       "1628942  Love the light.  Give it up.  Drink it all nig...  \n",
       "1500588  Bomber. Wow~!! Definetly a winner here. Aroma ...  \n",
       "325790   Mild hoppy and fruity aroma with a similar tas...  \n",
       "984703   Bottle. 10 cl. sample. Pours a hazy yellow wit...  \n",
       "917868   Poured from the bottle a straw yellow with a s...  \n",
       "...                                                    ...  \n",
       "1871046  Holy completely bland, watery, unispired, bori...  \n",
       "1907199  Great crisp cider. Light, straw color. Lots of...  \n",
       "1585346  pours a nice gold with a 2 finger head that fa...  \n",
       "2676247  120z bottle, bright honey gold color, with a t...  \n",
       "2484320  C&amp;C 750 from kp - thanks! Cloudy gold with...  \n",
       "\n",
       "[2046914 rows x 13 columns]"
      ]
     },
     "execution_count": 17,
     "metadata": {},
     "output_type": "execute_result"
    }
   ],
   "source": [
    "train_set"
   ]
  },
  {
   "cell_type": "markdown",
   "metadata": {},
   "source": [
    "Question 3: explain - should be around 1 page"
   ]
  },
  {
   "cell_type": "markdown",
   "metadata": {},
   "source": [
    "Question 4: read attached paper related to same dataset ( Ratebeer)"
   ]
  },
  {
   "cell_type": "markdown",
   "metadata": {},
   "source": []
  }
 ],
 "metadata": {
  "kernelspec": {
   "display_name": "Python 3 (ipykernel)",
   "language": "python",
   "name": "python3"
  },
  "language_info": {
   "codemirror_mode": {
    "name": "ipython",
    "version": 3
   },
   "file_extension": ".py",
   "mimetype": "text/x-python",
   "name": "python",
   "nbconvert_exporter": "python",
   "pygments_lexer": "ipython3",
   "version": "3.9.12"
  }
 },
 "nbformat": 4,
 "nbformat_minor": 2
}
